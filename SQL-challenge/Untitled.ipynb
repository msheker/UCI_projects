{
 "cells": [
  {
   "cell_type": "code",
   "execution_count": 1,
   "metadata": {},
   "outputs": [],
   "source": [
    "import pandas as pd"
   ]
  },
  {
   "cell_type": "code",
   "execution_count": 2,
   "metadata": {},
   "outputs": [],
   "source": [
    "def to_postgres(st, df, path=\"C://\"):\n",
    "    \n",
    "    res = \"drop table if exists \" + st + \";\\ncreate table \" + st + \" (\"\n",
    "    for col,typ in zip(df.columns,df.dtypes): \n",
    "        if str(typ) == 'object':\n",
    "            typ = \"varchar\"\n",
    "        elif str(typ) == \"int64\":\n",
    "            typ = \"int\"\n",
    "        elif str(typ) == \"float64\":\n",
    "            typ = \"float8\"\n",
    "            \n",
    "        #.replace(\" \",\"\").replace(\"/\",\"\").replace(\"(\",\"\").replace(\")\",\"\").replace(\"%\",\"\")\n",
    "        res = res + \"\\\"\" + col + \"\\\" \" + str(typ) + \", \"\n",
    "    return res[:-2] + \");\\ncopy \" + st + \" from \\'\" + path + \"\\' csv header;\\nselect * from \" + st + \";\"\n",
    "#print(to_postgres(\"\", df))"
   ]
  },
  {
   "cell_type": "code",
   "execution_count": 12,
   "metadata": {},
   "outputs": [],
   "source": [
    "def to_dbdiagram(st, df):\n",
    "    st = st + \"\\n-\\n\"\n",
    "    for col, typ in zip(df.columns,df.dtypes):\n",
    "        if str(typ) == 'object':\n",
    "            typ = \"string\"\n",
    "        st = st + col.replace(\" \",\"\") + \" \" + str(typ) + \"\\n\"\n",
    "    return st\n",
    "#print(to_dbdiagram(\"test\", df))"
   ]
  },
  {
   "cell_type": "code",
   "execution_count": 3,
   "metadata": {},
   "outputs": [
    {
     "name": "stdout",
     "output_type": "stream",
     "text": [
      "drop table if exists departments;\n",
      "create table departments (\"dept_no\" varchar, \"dept_name\" varchar);\n",
      "copy departments from 'C://temp/departments.csv' csv header;\n",
      "select * from departments;\n"
     ]
    }
   ],
   "source": [
    "print(to_postgres('departments',pd.read_csv('C://temp/departments.csv'),path='C://temp/departments.csv'))\n",
    "print(to_postgres('manager',pd.read_csv('C://temp/dept_manager.csv'),path='C://temp/dept_manager.csv'))\n",
    "print(to_postgres('emp',pd.read_csv('C://temp/dept_emp.csv'),path='C://temp/dept_emp.csv'))\n",
    "print(to_postgres('employees',pd.read_csv('C://temp/employees.csv'),path='C://temp/employees.csv'))\n",
    "print(to_postgres('titles',pd.read_csv('C://temp/titles.csv'),path='C://temp/salaries.csv'))\n",
    "print(to_postgres('salaries',pd.read_csv('C://temp/salaries.csv'),path='C://temp/salaries.csv'))"
   ]
  },
  {
   "cell_type": "code",
   "execution_count": 13,
   "metadata": {},
   "outputs": [
    {
     "name": "stdout",
     "output_type": "stream",
     "text": [
      "departments\n",
      "-\n",
      "dept_no string\n",
      "dept_name string\n",
      "\n",
      "manager\n",
      "-\n",
      "dept_no string\n",
      "emp_no int64\n",
      "\n",
      "emp\n",
      "-\n",
      "emp_no int64\n",
      "dept_no string\n",
      "\n",
      "employees\n",
      "-\n",
      "emp_no int64\n",
      "emp_title_id string\n",
      "birth_date string\n",
      "first_name string\n",
      "last_name string\n",
      "sex string\n",
      "hire_date string\n",
      "\n",
      "titles\n",
      "-\n",
      "title_id string\n",
      "title string\n",
      "\n",
      "salaries\n",
      "-\n",
      "emp_no int64\n",
      "salary int64\n",
      "\n"
     ]
    }
   ],
   "source": [
    "print(to_dbdiagram('departments',pd.read_csv('C://temp/departments.csv')))\n",
    "print(to_dbdiagram('manager',pd.read_csv('C://temp/dept_manager.csv')))\n",
    "print(to_dbdiagram('emp',pd.read_csv('C://temp/dept_emp.csv')))\n",
    "print(to_dbdiagram('employees',pd.read_csv('C://temp/employees.csv')))\n",
    "print(to_dbdiagram('titles',pd.read_csv('C://temp/titles.csv')))\n",
    "print(to_dbdiagram('salaries',pd.read_csv('C://temp/salaries.csv')))"
   ]
  },
  {
   "cell_type": "code",
   "execution_count": 5,
   "metadata": {},
   "outputs": [
    {
     "name": "stdout",
     "output_type": "stream",
     "text": [
      "drop table if exists emp;\n",
      "create table emp (\"emp_no\" int, \"dept_no\" varchar);\n",
      "copy emp from 'C://temp/dept_emp.csv' csv header;\n",
      "select * from emp;\n"
     ]
    }
   ],
   "source": []
  },
  {
   "cell_type": "code",
   "execution_count": 6,
   "metadata": {},
   "outputs": [
    {
     "name": "stdout",
     "output_type": "stream",
     "text": [
      "drop table if exists employees;\n",
      "create table employees (\"emp_no\" int, \"emp_title_id\" varchar, \"birth_date\" varchar, \"first_name\" varchar, \"last_name\" varchar, \"sex\" varchar, \"hire_date\" varchar);\n",
      "copy employees from 'C://temp/employees.csv' csv header;\n",
      "select * from employees;\n"
     ]
    }
   ],
   "source": []
  },
  {
   "cell_type": "code",
   "execution_count": 7,
   "metadata": {},
   "outputs": [
    {
     "name": "stdout",
     "output_type": "stream",
     "text": [
      "drop table if exists titles;\n",
      "create table titles (\"title_id\" varchar, \"title\" varchar);\n",
      "copy titles from 'C://temp/salaries.csv' csv header;\n",
      "select * from titles;\n"
     ]
    }
   ],
   "source": []
  },
  {
   "cell_type": "code",
   "execution_count": 8,
   "metadata": {},
   "outputs": [
    {
     "name": "stdout",
     "output_type": "stream",
     "text": [
      "drop table if exists salaries;\n",
      "create table salaries (\"emp_no\" int, \"salary\" int);\n",
      "copy salaries from 'C://temp/salaries.csv' csv header;\n",
      "select * from salaries;\n"
     ]
    }
   ],
   "source": []
  }
 ],
 "metadata": {
  "kernelspec": {
   "display_name": "Python 3",
   "language": "python",
   "name": "python3"
  },
  "language_info": {
   "codemirror_mode": {
    "name": "ipython",
    "version": 3
   },
   "file_extension": ".py",
   "mimetype": "text/x-python",
   "name": "python",
   "nbconvert_exporter": "python",
   "pygments_lexer": "ipython3",
   "version": "3.7.6"
  }
 },
 "nbformat": 4,
 "nbformat_minor": 4
}
