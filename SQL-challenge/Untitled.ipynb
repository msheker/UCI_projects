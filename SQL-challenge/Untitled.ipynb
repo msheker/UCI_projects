{
 "cells": [
  {
   "cell_type": "code",
   "execution_count": 1,
   "metadata": {},
   "outputs": [],
   "source": [
    "import pandas as pd"
   ]
  },
  {
   "cell_type": "code",
   "execution_count": 2,
   "metadata": {},
   "outputs": [],
   "source": [
    "def to_postgres(st, df, path=\"C://\"):\n",
    "    \n",
    "    res = \"drop table if exists \" + st + \";\\ncreate table \" + st + \" (\"\n",
    "    for col,typ in zip(df.columns,df.dtypes): \n",
    "        if str(typ) == 'object':\n",
    "            typ = \"varchar\"\n",
    "        elif str(typ) == \"int64\":\n",
    "            typ = \"int\"\n",
    "        elif str(typ) == \"float64\":\n",
    "            typ = \"float8\"\n",
    "            \n",
    "        #.replace(\" \",\"\").replace(\"/\",\"\").replace(\"(\",\"\").replace(\")\",\"\").replace(\"%\",\"\")\n",
    "        res = res + \"\\\"\" + col + \"\\\" \" + str(typ) + \", \"\n",
    "    return res[:-2] + \");\\ncopy \" + st + \" from \\'\" + path + \"\\' csv header;\\nselect * from \" + st + \";\"\n",
    "#print(to_postgres(\"\", df))"
   ]
  },
  {
   "cell_type": "code",
   "execution_count": 6,
   "metadata": {},
   "outputs": [
    {
     "name": "stdout",
     "output_type": "stream",
     "text": [
      "drop table if exists departments;\n",
      "create table departments (\"dept_no\" varchar, \"dept_name\" varchar);\n",
      "copy departments from 'C://temp/departments.csv' csv header;\n",
      "select * from departments;\n"
     ]
    }
   ],
   "source": [
    "print(to_postgres('departments',pd.read_csv('C://temp/departments.csv'),path='C://temp/departments.csv'))"
   ]
  },
  {
   "cell_type": "code",
   "execution_count": 7,
   "metadata": {},
   "outputs": [
    {
     "name": "stdout",
     "output_type": "stream",
     "text": [
      "drop table if exists manager;\n",
      "create table manager (\"dept_no\" varchar, \"emp_no\" int, \"from_date\" varchar, \"to_date\" varchar);\n",
      "copy manager from 'C://temp/dept_manager.csv' csv header;\n",
      "select * from manager;\n"
     ]
    }
   ],
   "source": [
    "print(to_postgres('manager',pd.read_csv('C://temp/dept_manager.csv'),path='C://temp/dept_manager.csv'))"
   ]
  },
  {
   "cell_type": "code",
   "execution_count": null,
   "metadata": {},
   "outputs": [],
   "source": []
  }
 ],
 "metadata": {
  "kernelspec": {
   "display_name": "Python 3",
   "language": "python",
   "name": "python3"
  },
  "language_info": {
   "codemirror_mode": {
    "name": "ipython",
    "version": 3
   },
   "file_extension": ".py",
   "mimetype": "text/x-python",
   "name": "python",
   "nbconvert_exporter": "python",
   "pygments_lexer": "ipython3",
   "version": "3.7.6"
  }
 },
 "nbformat": 4,
 "nbformat_minor": 4
}
